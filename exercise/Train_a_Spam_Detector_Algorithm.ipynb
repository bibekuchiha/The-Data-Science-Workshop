{
  "nbformat": 4,
  "nbformat_minor": 0,
  "metadata": {
    "colab": {
      "name": "Train a Spam Detector Algorithm.ipynb",
      "provenance": [],
      "authorship_tag": "ABX9TyPnWgkszEywKx7tZfiVjkqe",
      "include_colab_link": true
    },
    "kernelspec": {
      "name": "python3",
      "display_name": "Python 3"
    }
  },
  "cells": [
    {
      "cell_type": "markdown",
      "metadata": {
        "id": "view-in-github",
        "colab_type": "text"
      },
      "source": [
        "<a href=\"https://colab.research.google.com/github/bibekuchiha/The-Data-Science-Workshop/blob/master/exercise/Train_a_Spam_Detector_Algorithm.ipynb\" target=\"_parent\"><img src=\"https://colab.research.google.com/assets/colab-badge.svg\" alt=\"Open In Colab\"/></a>"
      ]
    },
    {
      "cell_type": "markdown",
      "metadata": {
        "id": "ZNrbb-82cKnP",
        "colab_type": "text"
      },
      "source": [
        "# Train a Spam Detector Algorithm\n",
        "\n",
        "You are working for an email service provider and have been tasked with training an algorithm that recognizes whether an email is spam or not from a given dataset and checking its performance.\n",
        "\n",
        "In this dataset, the authors have already created 57 different features based on some statistics for relevant keywords in order to classify whether an email is spam or not."
      ]
    },
    {
      "cell_type": "markdown",
      "metadata": {
        "id": "8TUn9RfNcN4O",
        "colab_type": "text"
      },
      "source": [
        "Import the required libraries."
      ]
    },
    {
      "cell_type": "code",
      "metadata": {
        "id": "PTAydBDPcRKv",
        "colab_type": "code",
        "colab": {}
      },
      "source": [
        "import pandas as pd\n",
        "from sklearn.ensemble import RandomForestClassifier"
      ],
      "execution_count": 0,
      "outputs": []
    },
    {
      "cell_type": "markdown",
      "metadata": {
        "id": "t9g2qJlacpPM",
        "colab_type": "text"
      },
      "source": [
        "Load the dataset"
      ]
    },
    {
      "cell_type": "code",
      "metadata": {
        "id": "tuBzimEBcrwO",
        "colab_type": "code",
        "colab": {
          "base_uri": "https://localhost:8080/",
          "height": 260
        },
        "outputId": "70607525-c10f-47e0-c1a8-c492cd839279"
      },
      "source": [
        "url = 'https://raw.githubusercontent.com/PacktWorkshops/The-Data-Science-Workshop/master/Chapter01/Dataset/dataset_44_spambase.csv'\n",
        "df = pd.read_csv(url)\n",
        "print(df_url)"
      ],
      "execution_count": 27,
      "outputs": [
        {
          "output_type": "stream",
          "text": [
            "      word_freq_make  ...  capital_run_length_total\n",
            "0               0.00  ...                       278\n",
            "1               0.21  ...                      1028\n",
            "2               0.06  ...                      2259\n",
            "3               0.00  ...                       191\n",
            "4               0.00  ...                       191\n",
            "...              ...  ...                       ...\n",
            "4596            0.31  ...                        88\n",
            "4597            0.00  ...                        14\n",
            "4598            0.30  ...                       118\n",
            "4599            0.96  ...                        78\n",
            "4600            0.00  ...                        40\n",
            "\n",
            "[4601 rows x 57 columns]\n"
          ],
          "name": "stdout"
        }
      ]
    },
    {
      "cell_type": "markdown",
      "metadata": {
        "id": "4w-CFwitc4s9",
        "colab_type": "text"
      },
      "source": [
        "Extract the response variable using .pop() from pandas. This method will extract the column provided as a parameter from the DataFrame. You can then assign it a variable name, for example, target = df.pop('class')."
      ]
    },
    {
      "cell_type": "code",
      "metadata": {
        "id": "H3THXLQ2c5ei",
        "colab_type": "code",
        "colab": {}
      },
      "source": [
        "target = df.pop('class')"
      ],
      "execution_count": 0,
      "outputs": []
    },
    {
      "cell_type": "markdown",
      "metadata": {
        "id": "e0t3wtgfdgQp",
        "colab_type": "text"
      },
      "source": [
        "Instantiate RandomForestClassifier."
      ]
    },
    {
      "cell_type": "code",
      "metadata": {
        "id": "bezr1iNjdg71",
        "colab_type": "code",
        "colab": {}
      },
      "source": [
        "rf_model = RandomForestClassifier(random_state = 168)"
      ],
      "execution_count": 0,
      "outputs": []
    },
    {
      "cell_type": "markdown",
      "metadata": {
        "id": "2MWmsQlHdtRm",
        "colab_type": "text"
      },
      "source": [
        "Train a Random Forest model to predict the outcome with .fit()."
      ]
    },
    {
      "cell_type": "code",
      "metadata": {
        "id": "suwZlJp_dt_2",
        "colab_type": "code",
        "colab": {
          "base_uri": "https://localhost:8080/",
          "height": 156
        },
        "outputId": "3603f7c5-fb1d-4a6d-f0e8-b5cf63e9a223"
      },
      "source": [
        "rf_model.fit(df, target)"
      ],
      "execution_count": 30,
      "outputs": [
        {
          "output_type": "execute_result",
          "data": {
            "text/plain": [
              "RandomForestClassifier(bootstrap=True, ccp_alpha=0.0, class_weight=None,\n",
              "                       criterion='gini', max_depth=None, max_features='auto',\n",
              "                       max_leaf_nodes=None, max_samples=None,\n",
              "                       min_impurity_decrease=0.0, min_impurity_split=None,\n",
              "                       min_samples_leaf=1, min_samples_split=2,\n",
              "                       min_weight_fraction_leaf=0.0, n_estimators=100,\n",
              "                       n_jobs=None, oob_score=False, random_state=168,\n",
              "                       verbose=0, warm_start=False)"
            ]
          },
          "metadata": {
            "tags": []
          },
          "execution_count": 30
        }
      ]
    },
    {
      "cell_type": "markdown",
      "metadata": {
        "id": "LepX-JGDeHWz",
        "colab_type": "text"
      },
      "source": [
        "Predict the outcomes from the input data using .predict()."
      ]
    },
    {
      "cell_type": "code",
      "metadata": {
        "id": "jgRaLC6weI1A",
        "colab_type": "code",
        "colab": {}
      },
      "source": [
        "pred = rf_model.predict(df)"
      ],
      "execution_count": 0,
      "outputs": []
    },
    {
      "cell_type": "markdown",
      "metadata": {
        "id": "_E2i5y7NefEn",
        "colab_type": "text"
      },
      "source": [
        "Print the preds variable."
      ]
    },
    {
      "cell_type": "code",
      "metadata": {
        "id": "g934AYYiehNx",
        "colab_type": "code",
        "colab": {
          "base_uri": "https://localhost:8080/",
          "height": 34
        },
        "outputId": "5a464686-6f72-4319-d84c-766a117d69b9"
      },
      "source": [
        "print(pred)"
      ],
      "execution_count": 32,
      "outputs": [
        {
          "output_type": "stream",
          "text": [
            "[1 1 1 ... 0 0 0]\n"
          ],
          "name": "stdout"
        }
      ]
    },
    {
      "cell_type": "markdown",
      "metadata": {
        "id": "Eu1sVqh2epWp",
        "colab_type": "text"
      },
      "source": [
        "Import the accuracy_score method from sklearn.metrics:"
      ]
    },
    {
      "cell_type": "code",
      "metadata": {
        "id": "LDrU3bioeqCD",
        "colab_type": "code",
        "colab": {}
      },
      "source": [
        "from sklearn.metrics import accuracy_score"
      ],
      "execution_count": 0,
      "outputs": []
    },
    {
      "cell_type": "markdown",
      "metadata": {
        "id": "Hs9vIZQoevyx",
        "colab_type": "text"
      },
      "source": [
        "Calculate accuracy_score() with target and preds as parameters and save the results in a variable called acc_score:"
      ]
    },
    {
      "cell_type": "code",
      "metadata": {
        "id": "8wT326YVewUh",
        "colab_type": "code",
        "colab": {
          "base_uri": "https://localhost:8080/",
          "height": 34
        },
        "outputId": "8432902e-b52f-4b13-98eb-af7e7d12ff1b"
      },
      "source": [
        "acc_score = accuracy_score(target,pred)\n",
        "print(acc_score)"
      ],
      "execution_count": 34,
      "outputs": [
        {
          "output_type": "stream",
          "text": [
            "0.9993479678330798\n"
          ],
          "name": "stdout"
        }
      ]
    }
  ]
}