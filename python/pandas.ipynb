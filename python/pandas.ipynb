{
  "nbformat": 4,
  "nbformat_minor": 0,
  "metadata": {
    "colab": {
      "name": "pandas.ipynb",
      "provenance": [],
      "authorship_tag": "ABX9TyOTJCSjg+o+JCBI+rUe/vbb",
      "include_colab_link": true
    },
    "kernelspec": {
      "name": "python3",
      "display_name": "Python 3"
    }
  },
  "cells": [
    {
      "cell_type": "markdown",
      "metadata": {
        "id": "view-in-github",
        "colab_type": "text"
      },
      "source": [
        "<a href=\"https://colab.research.google.com/github/bibekuchiha/The-Data-Science-Workshop/blob/master/python/pandas.ipynb\" target=\"_parent\"><img src=\"https://colab.research.google.com/assets/colab-badge.svg\" alt=\"Open In Colab\"/></a>"
      ]
    },
    {
      "cell_type": "markdown",
      "metadata": {
        "id": "bu5_eSItswSy",
        "colab_type": "text"
      },
      "source": [
        "1. Import the pandas package, as shown in the following code snippet:"
      ]
    },
    {
      "cell_type": "code",
      "metadata": {
        "id": "Cw6aUli-szgb",
        "colab_type": "code",
        "colab": {}
      },
      "source": [
        "import pandas as pd\n"
      ],
      "execution_count": 0,
      "outputs": []
    },
    {
      "cell_type": "markdown",
      "metadata": {
        "id": "wSb0rMrOs427",
        "colab_type": "text"
      },
      "source": [
        "2. Create a new variable called csv_url containing the URL to the raw CSV file:"
      ]
    },
    {
      "cell_type": "code",
      "metadata": {
        "id": "1DPrTWXYs6R3",
        "colab_type": "code",
        "colab": {}
      },
      "source": [
        "csv_url = 'https://raw.githubusercontent.com/PacktWorkshops/The-Data-Science-Workshop/master/Chapter01/Dataset/overall_topten_2012-2013.csv'"
      ],
      "execution_count": 0,
      "outputs": []
    },
    {
      "cell_type": "markdown",
      "metadata": {
        "id": "4ZMi8IB4tBPU",
        "colab_type": "text"
      },
      "source": [
        "3. Load the CSV file into a DataFrame using the pandas .read_csv() method. The first row of this CSV file contains the name of the file, as you can see in the following screenshot. You will need to exclude it by using the skiprows=1 parameter. Save the result in a variable called csv_df and print it:"
      ]
    },
    {
      "cell_type": "code",
      "metadata": {
        "id": "Gf34BrtxtGGu",
        "colab_type": "code",
        "colab": {
          "base_uri": "https://localhost:8080/",
          "height": 206
        },
        "outputId": "219364c2-e2ce-49ed-ca0f-a3cc6443d479"
      },
      "source": [
        "csv_df = pd.read_csv(csv_url, skiprows = 1)\n",
        "csv_df.head()"
      ],
      "execution_count": 9,
      "outputs": [
        {
          "output_type": "execute_result",
          "data": {
            "text/html": [
              "<div>\n",
              "<style scoped>\n",
              "    .dataframe tbody tr th:only-of-type {\n",
              "        vertical-align: middle;\n",
              "    }\n",
              "\n",
              "    .dataframe tbody tr th {\n",
              "        vertical-align: top;\n",
              "    }\n",
              "\n",
              "    .dataframe thead th {\n",
              "        text-align: right;\n",
              "    }\n",
              "</style>\n",
              "<table border=\"1\" class=\"dataframe\">\n",
              "  <thead>\n",
              "    <tr style=\"text-align: right;\">\n",
              "      <th></th>\n",
              "      <th>Number</th>\n",
              "      <th>Postcode</th>\n",
              "      <th>Suburbs</th>\n",
              "      <th>Number of Applications</th>\n",
              "    </tr>\n",
              "  </thead>\n",
              "  <tbody>\n",
              "    <tr>\n",
              "      <th>0</th>\n",
              "      <td>1</td>\n",
              "      <td>3029</td>\n",
              "      <td>Hoppers Crossing, Tarneit</td>\n",
              "      <td>1069</td>\n",
              "    </tr>\n",
              "    <tr>\n",
              "      <th>1</th>\n",
              "      <td>2</td>\n",
              "      <td>3977</td>\n",
              "      <td>Cranbourne, Devon Meadows, Skye</td>\n",
              "      <td>1037</td>\n",
              "    </tr>\n",
              "    <tr>\n",
              "      <th>2</th>\n",
              "      <td>3</td>\n",
              "      <td>3064</td>\n",
              "      <td>Craigieburn, Donnybrook, Roxburgh Park, Mickleham</td>\n",
              "      <td>821</td>\n",
              "    </tr>\n",
              "    <tr>\n",
              "      <th>3</th>\n",
              "      <td>4</td>\n",
              "      <td>3030</td>\n",
              "      <td>Point Cook, Werribee, Derrimut</td>\n",
              "      <td>816</td>\n",
              "    </tr>\n",
              "    <tr>\n",
              "      <th>4</th>\n",
              "      <td>5</td>\n",
              "      <td>3754</td>\n",
              "      <td>Doreen, Mernda</td>\n",
              "      <td>530</td>\n",
              "    </tr>\n",
              "  </tbody>\n",
              "</table>\n",
              "</div>"
            ],
            "text/plain": [
              "   Number  ...  Number of Applications\n",
              "0       1  ...                    1069\n",
              "1       2  ...                    1037\n",
              "2       3  ...                     821\n",
              "3       4  ...                     816\n",
              "4       5  ...                     530\n",
              "\n",
              "[5 rows x 4 columns]"
            ]
          },
          "metadata": {
            "tags": []
          },
          "execution_count": 9
        }
      ]
    },
    {
      "cell_type": "markdown",
      "metadata": {
        "id": "LEp9NjR1ty3L",
        "colab_type": "text"
      },
      "source": [
        "4. Create a new variable called tsv_url containing the URL to the raw TSV file:"
      ]
    },
    {
      "cell_type": "code",
      "metadata": {
        "id": "vqR04_3ft1M2",
        "colab_type": "code",
        "colab": {}
      },
      "source": [
        "tsv_url = 'https://raw.githubusercontent.com/PacktWorkshops/The-Data-Science-Workshop/master/Chapter01/Dataset/overall_topten_2012-2013.tsv'"
      ],
      "execution_count": 0,
      "outputs": []
    },
    {
      "cell_type": "markdown",
      "metadata": {
        "id": "CSWct5S6uBHE",
        "colab_type": "text"
      },
      "source": [
        "5. Load the TSV file into a DataFrame using the pandas .read_csv() method and specify the skiprows=1 and sep='\\t' parameters. Save the result in a variable called tsv_df and print it:"
      ]
    },
    {
      "cell_type": "code",
      "metadata": {
        "id": "g-UsTZ96uDdr",
        "colab_type": "code",
        "colab": {
          "base_uri": "https://localhost:8080/",
          "height": 243
        },
        "outputId": "ee3e7250-4f0c-4ddf-aa0f-7dcb61d0502c"
      },
      "source": [
        "tsv_df = pd.read_csv(tsv_url, skiprows = 1, sep='\\t')\n",
        "print(tsv_df)"
      ],
      "execution_count": 13,
      "outputs": [
        {
          "output_type": "stream",
          "text": [
            "   Number  ...  Number of Applications\n",
            "0       1  ...                    1069\n",
            "1       2  ...                    1037\n",
            "2       3  ...                     821\n",
            "3       4  ...                     816\n",
            "4       5  ...                     530\n",
            "5       6  ...                     479\n",
            "6       7  ...                     383\n",
            "7       8  ...                     351\n",
            "8       9  ...                     344\n",
            "9      10  ...                     335\n",
            "\n",
            "[10 rows x 4 columns]\n"
          ],
          "name": "stdout"
        }
      ]
    },
    {
      "cell_type": "markdown",
      "metadata": {
        "id": "AONWKxceuddt",
        "colab_type": "text"
      },
      "source": [
        "6. Create a new variable called xlsx_url containing the URL to the raw Excel spreadsheet:"
      ]
    },
    {
      "cell_type": "code",
      "metadata": {
        "id": "ywsk2gsIufYZ",
        "colab_type": "code",
        "colab": {}
      },
      "source": [
        "xlsx_url = 'https://github.com/PacktWorkshops/The-Data-Science-Workshop/blob/master/Chapter01/Dataset/overall_topten_2012-2013.xlsx?raw=true'"
      ],
      "execution_count": 0,
      "outputs": []
    },
    {
      "cell_type": "markdown",
      "metadata": {
        "id": "kbGPoh6eulC8",
        "colab_type": "text"
      },
      "source": [
        "7. Load the Excel spreadsheet into a DataFrame using the pandas .read_excel() method. Save the result in a variable called xlsx_df and print it:"
      ]
    },
    {
      "cell_type": "code",
      "metadata": {
        "id": "MkLq3Ngzune7",
        "colab_type": "code",
        "colab": {
          "base_uri": "https://localhost:8080/",
          "height": 69
        },
        "outputId": "927e353c-1a32-40cf-a5f1-dc392b62a796"
      },
      "source": [
        "xlsx_df = pd.read_excel(xlsx_url)\n",
        "print(xlsx_df)\n",
        "#By default, .read_excel() loads the first sheet of an Excel spreadsheet. \n",
        "#In this example, the data is actually stored in the second sheet."
      ],
      "execution_count": 15,
      "outputs": [
        {
          "output_type": "stream",
          "text": [
            "Empty DataFrame\n",
            "Columns: [This tab doesn't contain the data we are looking for]\n",
            "Index: []\n"
          ],
          "name": "stdout"
        }
      ]
    },
    {
      "cell_type": "markdown",
      "metadata": {
        "id": "WAp4dFpOu_GR",
        "colab_type": "text"
      },
      "source": [
        "Load the Excel spreadsheet into a Dataframe using the pandas .read_excel() method and specify the skiprows=1 and sheetname=1 parameters. Save the result in a variable called xlsx_df1 and print it:"
      ]
    },
    {
      "cell_type": "code",
      "metadata": {
        "id": "ZDh9DvclvBCI",
        "colab_type": "code",
        "colab": {
          "base_uri": "https://localhost:8080/",
          "height": 243
        },
        "outputId": "a02abd1b-8f09-4ef1-f9f1-e2a4c47de5e7"
      },
      "source": [
        "xlsx_df1 = pd.read_excel(xlsx_url, skiprows= 1, sheet_name= 1)\n",
        "print(xlsx_df1)"
      ],
      "execution_count": 17,
      "outputs": [
        {
          "output_type": "stream",
          "text": [
            "   Number  ...  Number of Applications\n",
            "0       1  ...                    1069\n",
            "1       2  ...                    1037\n",
            "2       3  ...                     821\n",
            "3       4  ...                     816\n",
            "4       5  ...                     530\n",
            "5       6  ...                     479\n",
            "6       7  ...                     383\n",
            "7       8  ...                     351\n",
            "8       9  ...                     344\n",
            "9      10  ...                     335\n",
            "\n",
            "[10 rows x 4 columns]\n"
          ],
          "name": "stdout"
        }
      ]
    },
    {
      "cell_type": "markdown",
      "metadata": {
        "id": "MnNCGOB0vfGy",
        "colab_type": "text"
      },
      "source": [
        "Great job! In this exercise, we learned how to load the Top 10 Postcodes for First Home Buyer Grants dataset from different file formats."
      ]
    }
  ]
}