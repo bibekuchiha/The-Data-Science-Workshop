{
  "nbformat": 4,
  "nbformat_minor": 0,
  "metadata": {
    "colab": {
      "name": "Dictionaries.ipynb",
      "provenance": [],
      "authorship_tag": "ABX9TyOC1FnEW61jMr5tMJaPzmOM",
      "include_colab_link": true
    },
    "kernelspec": {
      "name": "python3",
      "display_name": "Python 3"
    }
  },
  "cells": [
    {
      "cell_type": "markdown",
      "metadata": {
        "id": "view-in-github",
        "colab_type": "text"
      },
      "source": [
        "<a href=\"https://colab.research.google.com/github/bibekuchiha/The-Data-Science-Workshop/blob/master/python/Dictionaries.ipynb\" target=\"_parent\"><img src=\"https://colab.research.google.com/assets/colab-badge.svg\" alt=\"Open In Colab\"/></a>"
      ]
    },
    {
      "cell_type": "code",
      "metadata": {
        "id": "V0iRVpy9iXty",
        "colab_type": "code",
        "colab": {}
      },
      "source": [
        ""
      ],
      "execution_count": 0,
      "outputs": []
    },
    {
      "cell_type": "markdown",
      "metadata": {
        "id": "FTxk9v7Oi2NB",
        "colab_type": "text"
      },
      "source": [
        "# Creating a Dictionary That Will Contain Machine Learning Algorithms\n",
        "\n",
        "In this exercise, we will create a dictionary using Python that will contain a collection of different machine learning algorithms that will be covered in this course.\n",
        "\n",
        "The following steps will help you complete the exercise:\n"
      ]
    },
    {
      "cell_type": "markdown",
      "metadata": {
        "id": "Vlr2MehLikWs",
        "colab_type": "text"
      },
      "source": [
        "1. Create a list called algorithm that will contain the following elements: Linear Regression, Logistic Regression, RandomForest, and a3c:\n"
      ]
    },
    {
      "cell_type": "code",
      "metadata": {
        "id": "BJt1hDQajhoq",
        "colab_type": "code",
        "outputId": "c9c7d04f-c156-4a64-e674-c2e0eb9f8e7a",
        "colab": {
          "base_uri": "https://localhost:8080/",
          "height": 34
        }
      },
      "source": [
        "algorithm = ['Linear Regression','Logistic Regression','RandomForest','a3c']\n",
        "print(algorithm)"
      ],
      "execution_count": 0,
      "outputs": [
        {
          "output_type": "stream",
          "text": [
            "['Linear Regression', 'Logistic Regression', 'RandomForest', 'a3c']\n"
          ],
          "name": "stdout"
        }
      ]
    },
    {
      "cell_type": "markdown",
      "metadata": {
        "id": "-chbWsL1j0vy",
        "colab_type": "text"
      },
      "source": [
        "2. Now, create a list called learning that will contain the following elements: Supervised, Supervised, Supervised, and Reinforcement:\n"
      ]
    },
    {
      "cell_type": "code",
      "metadata": {
        "id": "aWJ233NTj4EL",
        "colab_type": "code",
        "colab": {}
      },
      "source": [
        "learning = ['Supervised','Supervised','Supervised','Reinforcement']"
      ],
      "execution_count": 0,
      "outputs": []
    },
    {
      "cell_type": "markdown",
      "metadata": {
        "id": "BayqjCgzkFCX",
        "colab_type": "text"
      },
      "source": [
        "3. Create a list called algorithm_type that will contain the following elements: Regression, Classification, Regression or Classification, and Game AI:"
      ]
    },
    {
      "cell_type": "code",
      "metadata": {
        "id": "4cZsEM8pkHPK",
        "colab_type": "code",
        "colab": {}
      },
      "source": [
        "algorithm_type = ['Regression','Classification','Regression or Classification','Game AI']"
      ],
      "execution_count": 0,
      "outputs": []
    },
    {
      "cell_type": "markdown",
      "metadata": {
        "id": "8qtNeKz_lJN0",
        "colab_type": "text"
      },
      "source": [
        "4. Add an item called k-means into the algorithm list using the .append() method:"
      ]
    },
    {
      "cell_type": "code",
      "metadata": {
        "id": "Lm_9g3mNlLMb",
        "colab_type": "code",
        "colab": {}
      },
      "source": [
        "algorithm.append('k-means')"
      ],
      "execution_count": 0,
      "outputs": []
    },
    {
      "cell_type": "markdown",
      "metadata": {
        "id": "6bY1xRl6lcN9",
        "colab_type": "text"
      },
      "source": [
        "5. Display the content of algorithm using the print() function:"
      ]
    },
    {
      "cell_type": "code",
      "metadata": {
        "id": "ivQ8J90vldyf",
        "colab_type": "code",
        "outputId": "5a376394-d963-4add-8a5d-c5483d63b016",
        "colab": {
          "base_uri": "https://localhost:8080/",
          "height": 34
        }
      },
      "source": [
        "print(algorithm)"
      ],
      "execution_count": 0,
      "outputs": [
        {
          "output_type": "stream",
          "text": [
            "['Linear Regression', 'Logistic Regression', 'RandomForest', 'a3c', 'k-means']\n"
          ],
          "name": "stdout"
        }
      ]
    },
    {
      "cell_type": "markdown",
      "metadata": {
        "id": "oLolVkOxlkbB",
        "colab_type": "text"
      },
      "source": [
        "6. Now, add the Unsupervised item into the learning list using the .append() method:"
      ]
    },
    {
      "cell_type": "code",
      "metadata": {
        "id": "JX6C5xjXllte",
        "colab_type": "code",
        "colab": {}
      },
      "source": [
        "learning.append('Unsupervised')"
      ],
      "execution_count": 0,
      "outputs": []
    },
    {
      "cell_type": "markdown",
      "metadata": {
        "id": "h1_pjJ0FluNa",
        "colab_type": "text"
      },
      "source": [
        "7. Display the content of learning using the print() function:"
      ]
    },
    {
      "cell_type": "code",
      "metadata": {
        "id": "xXmwShO-lyDX",
        "colab_type": "code",
        "outputId": "b9a1f135-bd71-44ec-d373-c78c03bae2e6",
        "colab": {
          "base_uri": "https://localhost:8080/",
          "height": 34
        }
      },
      "source": [
        "print(learning)"
      ],
      "execution_count": 0,
      "outputs": [
        {
          "output_type": "stream",
          "text": [
            "['Supervised', 'Supervised', 'Supervised', 'Reinforcement', 'Unsupervised']\n"
          ],
          "name": "stdout"
        }
      ]
    },
    {
      "cell_type": "markdown",
      "metadata": {
        "id": "BDmcWm0Zl4BY",
        "colab_type": "text"
      },
      "source": [
        "8. Add the Clustering item into the algorithm_type list using the .append() method:"
      ]
    },
    {
      "cell_type": "code",
      "metadata": {
        "id": "u7WzDTgsl7N5",
        "colab_type": "code",
        "colab": {}
      },
      "source": [
        "algorithm_type.append('Clustering')"
      ],
      "execution_count": 0,
      "outputs": []
    },
    {
      "cell_type": "markdown",
      "metadata": {
        "id": "-gxzLlXTmBxd",
        "colab_type": "text"
      },
      "source": [
        "9. Display the content of algorithm_type using the print() function:"
      ]
    },
    {
      "cell_type": "code",
      "metadata": {
        "id": "GvmFqTkamD3Y",
        "colab_type": "code",
        "outputId": "76169609-79e5-442d-d54e-edf18f4ce53d",
        "colab": {
          "base_uri": "https://localhost:8080/",
          "height": 34
        }
      },
      "source": [
        "print(algorithm_type)"
      ],
      "execution_count": 0,
      "outputs": [
        {
          "output_type": "stream",
          "text": [
            "['Regression', 'Classification', 'Regression or Classification', 'Game AI', 'Clustering']\n"
          ],
          "name": "stdout"
        }
      ]
    },
    {
      "cell_type": "markdown",
      "metadata": {
        "id": "4UBk_QoXmHmC",
        "colab_type": "text"
      },
      "source": [
        "10. Create an empty dictionary called machine_learning using curly brackets, {}:"
      ]
    },
    {
      "cell_type": "code",
      "metadata": {
        "id": "RhIWgKUMmLPY",
        "colab_type": "code",
        "colab": {}
      },
      "source": [
        "machine_learning = {}"
      ],
      "execution_count": 0,
      "outputs": []
    },
    {
      "cell_type": "markdown",
      "metadata": {
        "id": "bzDa_hybmQi_",
        "colab_type": "text"
      },
      "source": [
        "11. Create a new item in machine_learning with the key as algorithm and the value as all the items from the algorithm list:"
      ]
    },
    {
      "cell_type": "code",
      "metadata": {
        "id": "UusJ1hDlmTKX",
        "colab_type": "code",
        "colab": {}
      },
      "source": [
        "machine_learning['algorithm'] = algorithm"
      ],
      "execution_count": 0,
      "outputs": []
    },
    {
      "cell_type": "markdown",
      "metadata": {
        "id": "2mABwedWmxdW",
        "colab_type": "text"
      },
      "source": [
        "12. Display the content of machine_learning using the print() function."
      ]
    },
    {
      "cell_type": "code",
      "metadata": {
        "id": "6ESZKWd9mzDi",
        "colab_type": "code",
        "outputId": "181080fc-f458-48f5-9b59-95b2feab55ae",
        "colab": {
          "base_uri": "https://localhost:8080/",
          "height": 34
        }
      },
      "source": [
        "print(machine_learning)"
      ],
      "execution_count": 0,
      "outputs": [
        {
          "output_type": "stream",
          "text": [
            "{'algorithm': ['Linear Regression', 'Logistic Regression', 'RandomForest', 'a3c', 'k-means']}\n"
          ],
          "name": "stdout"
        }
      ]
    },
    {
      "cell_type": "markdown",
      "metadata": {
        "id": "rg9wcBRjm883",
        "colab_type": "text"
      },
      "source": [
        "13. Create a new item in machine_learning with the key as learning and the value as all the items from the learning list:"
      ]
    },
    {
      "cell_type": "code",
      "metadata": {
        "id": "1SIHG7sYm-Re",
        "colab_type": "code",
        "colab": {}
      },
      "source": [
        "machine_learning['learning'] = learning"
      ],
      "execution_count": 0,
      "outputs": []
    },
    {
      "cell_type": "markdown",
      "metadata": {
        "id": "31bE7QltnJKE",
        "colab_type": "text"
      },
      "source": [
        "14. Now, create a new item in machine_learning with the key as algorithm_type and the value as all the items from the algorithm_type list:"
      ]
    },
    {
      "cell_type": "code",
      "metadata": {
        "id": "CA_u20YEnKRv",
        "colab_type": "code",
        "colab": {}
      },
      "source": [
        "machine_learning['algorithm_type'] = algorithm_type"
      ],
      "execution_count": 0,
      "outputs": []
    },
    {
      "cell_type": "markdown",
      "metadata": {
        "id": "2ehjTflSnQhJ",
        "colab_type": "text"
      },
      "source": [
        "15. Display the content of machine_learning using the print() function."
      ]
    },
    {
      "cell_type": "code",
      "metadata": {
        "id": "l_PJp1B7nS1F",
        "colab_type": "code",
        "outputId": "162fd0f9-387e-4680-b218-425b2e20c969",
        "colab": {
          "base_uri": "https://localhost:8080/",
          "height": 54
        }
      },
      "source": [
        "print(machine_learning)"
      ],
      "execution_count": 0,
      "outputs": [
        {
          "output_type": "stream",
          "text": [
            "{'algorithm': ['Linear Regression', 'Logistic Regression', 'RandomForest', 'a3c', 'k-means'], 'learning': ['Supervised', 'Supervised', 'Supervised', 'Reinforcement', 'Unsupervised'], 'algorithm_type': ['Regression', 'Classification', 'Regression or Classification', 'Game AI', 'Clustering']}\n"
          ],
          "name": "stdout"
        }
      ]
    },
    {
      "cell_type": "markdown",
      "metadata": {
        "id": "WnNibncmnYf1",
        "colab_type": "text"
      },
      "source": [
        "16. Remove the a3c item from the algorithm key using the .remove() method:"
      ]
    },
    {
      "cell_type": "code",
      "metadata": {
        "id": "trPlN9G_naD8",
        "colab_type": "code",
        "colab": {}
      },
      "source": [
        "machine_learning['algorithm'].remove('a3c')"
      ],
      "execution_count": 0,
      "outputs": []
    },
    {
      "cell_type": "markdown",
      "metadata": {
        "id": "oEdoitUsnu7g",
        "colab_type": "text"
      },
      "source": [
        "17. Display the content of the algorithm item from the machine_learning dictionary using the print() function:"
      ]
    },
    {
      "cell_type": "code",
      "metadata": {
        "id": "SpCi8PhEnwjb",
        "colab_type": "code",
        "outputId": "547e8975-86eb-43a0-cc78-6bd95742cfb0",
        "colab": {
          "base_uri": "https://localhost:8080/",
          "height": 54
        }
      },
      "source": [
        "print(machine_learning)"
      ],
      "execution_count": 0,
      "outputs": [
        {
          "output_type": "stream",
          "text": [
            "{'algorithm': ['Linear Regression', 'Logistic Regression', 'RandomForest', 'k-means'], 'learning': ['Supervised', 'Supervised', 'Supervised', 'Reinforcement', 'Unsupervised'], 'algorithm_type': ['Regression', 'Classification', 'Regression or Classification', 'Game AI', 'Clustering']}\n"
          ],
          "name": "stdout"
        }
      ]
    },
    {
      "cell_type": "markdown",
      "metadata": {
        "id": "u7kn1ImGn9WU",
        "colab_type": "text"
      },
      "source": [
        "18. Remove the Reinforcement item from the learning key using the .remove() method:"
      ]
    },
    {
      "cell_type": "code",
      "metadata": {
        "id": "i_DfYKeIoAga",
        "colab_type": "code",
        "colab": {}
      },
      "source": [
        "machine_learning['learning'].remove('Reinforcement')"
      ],
      "execution_count": 0,
      "outputs": []
    },
    {
      "cell_type": "markdown",
      "metadata": {
        "id": "jSSg3aKHoPI6",
        "colab_type": "text"
      },
      "source": [
        "19. Remove the Game AI item from the algorithm_type key using the .remove() method:"
      ]
    },
    {
      "cell_type": "code",
      "metadata": {
        "id": "cRRU3HlioQgK",
        "colab_type": "code",
        "colab": {}
      },
      "source": [
        "machine_learning['algorithm_type'].remove('Game AI')"
      ],
      "execution_count": 0,
      "outputs": []
    },
    {
      "cell_type": "markdown",
      "metadata": {
        "id": "w_mMFuGmoYPA",
        "colab_type": "text"
      },
      "source": [
        "20. Display the content of machine_learning using the print() function:"
      ]
    },
    {
      "cell_type": "code",
      "metadata": {
        "id": "Ak5oDveFoboa",
        "colab_type": "code",
        "outputId": "b33bfafc-4793-4cb4-ca66-abea8dd2c76b",
        "colab": {
          "base_uri": "https://localhost:8080/",
          "height": 54
        }
      },
      "source": [
        "print(machine_learning)"
      ],
      "execution_count": 0,
      "outputs": [
        {
          "output_type": "stream",
          "text": [
            "{'algorithm': ['Linear Regression', 'Logistic Regression', 'RandomForest', 'k-means'], 'learning': ['Supervised', 'Supervised', 'Supervised', 'Unsupervised'], 'algorithm_type': ['Regression', 'Classification', 'Regression or Classification', 'Clustering']}\n"
          ],
          "name": "stdout"
        }
      ]
    }
  ]
}